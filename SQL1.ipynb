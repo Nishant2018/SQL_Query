{
 "cells": [
  {
   "cell_type": "code",
   "execution_count": null,
   "id": "cc9b937e",
   "metadata": {},
   "outputs": [],
   "source": [
    "import mysql.connector\n",
    "mydb = mysql.connector.connect(\n",
    "  host=\"localhost\",\n",
    "  user=\"Your_Username\",\n",
    "  password=\"Your_Password\", \n",
    "  database=\"Your_databasename\"  \n",
    ")\n",
    "mycursor = mydb.cursor()"
   ]
  },
  {
   "cell_type": "code",
   "execution_count": null,
   "id": "7abc4e46",
   "metadata": {},
   "outputs": [],
   "source": [
    "mycursor.execute(\"Select * from nishant.decision_tree\")"
   ]
  },
  {
   "cell_type": "code",
   "execution_count": null,
   "id": "83d22e82",
   "metadata": {},
   "outputs": [],
   "source": [
    "for i in mycursor.fetchall():\n",
    "    print(i)"
   ]
  },
  {
   "cell_type": "code",
   "execution_count": null,
   "id": "549c6d38",
   "metadata": {
    "scrolled": true
   },
   "outputs": [],
   "source": [
    "query = \"Select Sex, Na_to_K from nishant.decision_tree\"\n",
    "mycursor.execute(query)\n",
    "for i in mycursor.fetchall():\n",
    "    print(i)"
   ]
  },
  {
   "cell_type": "code",
   "execution_count": null,
   "id": "c087ea46",
   "metadata": {
    "scrolled": true
   },
   "outputs": [],
   "source": [
    "query = \"select count(Na_to_K) from nishant.decision_tree\"\n",
    "mycursor.execute(query)\n",
    "for i in mycursor.fetchall():\n",
    "    print(i)"
   ]
  },
  {
   "cell_type": "code",
   "execution_count": null,
   "id": "8bd61361",
   "metadata": {
    "scrolled": true
   },
   "outputs": [],
   "source": [
    "query = \"select * from nishant.decision_tree where Age > 50 \"\n",
    "mycursor.execute(query)\n",
    "for i in mycursor.fetchall():\n",
    "    print(i)"
   ]
  },
  {
   "cell_type": "code",
   "execution_count": null,
   "id": "abce91a6",
   "metadata": {
    "scrolled": true
   },
   "outputs": [],
   "source": [
    "query = \"select* from nishant.decision_tree where Age  between 50 and 60\"\n",
    "mycursor.execute(query)\n",
    "for i in mycursor.fetchall():\n",
    "    print(i)"
   ]
  },
  {
   "cell_type": "code",
   "execution_count": null,
   "id": "ac9988ca",
   "metadata": {
    "scrolled": true
   },
   "outputs": [],
   "source": [
    "query = \"select * from nishant.decision_tree where BP = 'NORMAL'\"\n",
    "mycursor.execute(query)\n",
    "for i in mycursor.fetchall():\n",
    "    print(i)"
   ]
  },
  {
   "cell_type": "code",
   "execution_count": null,
   "id": "adb23fcd",
   "metadata": {
    "scrolled": true
   },
   "outputs": [],
   "source": [
    "query = \"select * from nishant.decision_tree where BP like 'L%'\"\n",
    "mycursor.execute(query)\n",
    "for i in mycursor.fetchall():\n",
    "    print(i)"
   ]
  },
  {
   "cell_type": "code",
   "execution_count": null,
   "id": "95b168b7",
   "metadata": {},
   "outputs": [],
   "source": [
    "query = \"select * from nishant.decision_tree where BP='LOW' and Age >60\"\n",
    "mycursor.execute(query)\n",
    "for i in mycursor.fetchall():\n",
    "    print(i)"
   ]
  },
  {
   "cell_type": "code",
   "execution_count": null,
   "id": "a2c641a7",
   "metadata": {},
   "outputs": [],
   "source": [
    "query = \"select * from nishant.decision_tree where BP ='HIGH' or Age <50\"\n",
    "mycursor.execute(query)\n",
    "for i in mycursor.fetchall():\n",
    "    print(i)"
   ]
  },
  {
   "cell_type": "code",
   "execution_count": null,
   "id": "25105f67",
   "metadata": {},
   "outputs": [],
   "source": [
    "query = \"select * from nishant.decision_tree where Na_to_K is null\"\n",
    "mycursor.execute(query)\n",
    "for i in mycursor.fetchall():\n",
    "    print(i)"
   ]
  },
  {
   "cell_type": "code",
   "execution_count": null,
   "id": "94cb9636",
   "metadata": {},
   "outputs": [],
   "source": [
    "query = \"select * from nishant.decision_tree where Na_to_K is not null\"\n",
    "mycursor.execute(query)\n",
    "for i in mycursor.fetchall():\n",
    "    print(i)"
   ]
  },
  {
   "cell_type": "code",
   "execution_count": null,
   "id": "ab50e87c",
   "metadata": {},
   "outputs": [],
   "source": [
    "query = \"select sum(Na_to_K) from nishant.decision_tree\"\n",
    "mycursor.execute(query)\n",
    "for i in mycursor.fetchall():\n",
    "    print(i)"
   ]
  },
  {
   "cell_type": "code",
   "execution_count": null,
   "id": "d8a57413",
   "metadata": {},
   "outputs": [],
   "source": [
    "query = \"select avg(Age) from nishant.decision_tree\"\n",
    "mycursor.execute(query)\n",
    "for i in mycursor.fetchall():\n",
    "    print(i)"
   ]
  },
  {
   "cell_type": "code",
   "execution_count": null,
   "id": "9a030e0a",
   "metadata": {},
   "outputs": [],
   "source": [
    "query = \"select max(Age) from nishant.decision_tree\"\n",
    "mycursor.execute(query)\n",
    "for i in mycursor.fetchall():\n",
    "    print(i)"
   ]
  },
  {
   "cell_type": "code",
   "execution_count": null,
   "id": "a5bd9a51",
   "metadata": {},
   "outputs": [],
   "source": [
    "query = \"select min(Age) from nishant.decision_tree\"\n",
    "mycursor.execute(query)\n",
    "for i in mycursor.fetchall():\n",
    "    print(i)"
   ]
  },
  {
   "cell_type": "code",
   "execution_count": null,
   "id": "5d4110eb",
   "metadata": {},
   "outputs": [],
   "source": [
    "query = \"select BP, sum(Na_to_K) from nishant.decision_tree group by BP\"\n",
    "mycursor.execute(query)\n",
    "for i in mycursor.fetchall():\n",
    "    print(i)"
   ]
  },
  {
   "cell_type": "code",
   "execution_count": null,
   "id": "14fc58b1",
   "metadata": {},
   "outputs": [],
   "source": [
    "query = \"select BP, avg(Na_to_K) from nishant.decision_tree group by BP\"\n",
    "mycursor.execute(query)\n",
    "for i in mycursor.fetchall():\n",
    "    print(i)"
   ]
  },
  {
   "cell_type": "code",
   "execution_count": null,
   "id": "1af218cb",
   "metadata": {},
   "outputs": [],
   "source": [
    "query = \"select BP, max(Na_to_K) from nishant.decision_tree group by BP\"\n",
    "mycursor.execute(query)\n",
    "for i in mycursor.fetchall():\n",
    "    print(i)"
   ]
  },
  {
   "cell_type": "code",
   "execution_count": null,
   "id": "a87f63b9",
   "metadata": {},
   "outputs": [],
   "source": [
    "query = \"select BP, min(Na_to_K) from nishant.decision_tree group by BP\"\n",
    "mycursor.execute(query)\n",
    "for i in mycursor.fetchall():\n",
    "    print(i)"
   ]
  },
  {
   "cell_type": "code",
   "execution_count": null,
   "id": "e0e29b69",
   "metadata": {},
   "outputs": [],
   "source": [
    "query = \" select BP,avg(Na_to_K) as avg from nishant.decision_tree group by BP order by avg asc\"\n",
    "mycursor.execute(query)\n",
    "for i in mycursor.fetchall():\n",
    "    print(i)"
   ]
  },
  {
   "cell_type": "code",
   "execution_count": null,
   "id": "dcd2a978",
   "metadata": {},
   "outputs": [],
   "source": [
    "query =\"select BP,count(Sex) as number from nishant.decision_tree group by BP\"\n",
    "mycursor.execute(query)\n",
    "for i in mycursor.fetchall():\n",
    "    print(i)"
   ]
  },
  {
   "cell_type": "code",
   "execution_count": null,
   "id": "c3809cd7",
   "metadata": {},
   "outputs": [],
   "source": [
    "query = \"select BP, count(sex) as cnt from nishant.decision_tree group by BP having cnt>65\"\n",
    "mycursor.execute(query) \n",
    "for i in mycursor.fetchall():\n",
    "    print(i)"
   ]
  },
  {
   "cell_type": "code",
   "execution_count": null,
   "id": "d8d36b0c",
   "metadata": {},
   "outputs": [],
   "source": [
    "query = \"update nishant.decision_tree set Na_to_K = 31.686 where BP = 'NORMAL'\"\n",
    "mycursor.execute(query)\n",
    "for i in mycursor.fetchall():\n",
    "    print(i)"
   ]
  },
  {
   "cell_type": "code",
   "execution_count": null,
   "id": "a16b6b63",
   "metadata": {
    "scrolled": true
   },
   "outputs": [],
   "source": [
    "query = \"select * from nishant.decision_tree where BP = 'NORMAL'\"\n",
    "mycursor.execute(query)\n",
    "for i in mycursor.fetchall():\n",
    "    print(i)"
   ]
  },
  {
   "cell_type": "code",
   "execution_count": null,
   "id": "70832f26",
   "metadata": {},
   "outputs": [],
   "source": [
    "query = \"select Na_to_K, BP,customer_id,relationship from nishant.decision_tree inner join nishant.census_data on nishant.decision_tree.Age = nishant.census_data.age order by Na_to_K\"\n",
    "mycursor.execute(query)\n",
    "for i in mycursor.fetchall():\n",
    "    print(i)"
   ]
  },
  {
   "cell_type": "code",
   "execution_count": null,
   "id": "518f8bf9",
   "metadata": {},
   "outputs": [],
   "source": [
    "query = \"select Na_to_K, BP,customer_id,relationship from nishant.decision_tree right join nishant.census_data on nishant.decision_tree.Age = nishant.census_data.age order by Na_to_K\"\n",
    "mycursor.execute(query)\n",
    "for i in mycursor.fetchall():\n",
    "    print(i)"
   ]
  },
  {
   "cell_type": "code",
   "execution_count": null,
   "id": "42a6d136",
   "metadata": {},
   "outputs": [],
   "source": [
    "query = \"select Na_to_K, BP,customer_id,relationship from nishant.decision_tree left join nishant.census_data on nishant.decision_tree.Age = nishant.census_data.age order by Na_to_K\"\n",
    "mycursor.execute(query)\n",
    "for i in mycursor.fetchall():\n",
    "    print(i)"
   ]
  },
  {
   "cell_type": "code",
   "execution_count": null,
   "id": "68ec22b9",
   "metadata": {},
   "outputs": [],
   "source": []
  }
 ],
 "metadata": {
  "kernelspec": {
   "display_name": "Python 3 (ipykernel)",
   "language": "python",
   "name": "python3"
  },
  "language_info": {
   "codemirror_mode": {
    "name": "ipython",
    "version": 3
   },
   "file_extension": ".py",
   "mimetype": "text/x-python",
   "name": "python",
   "nbconvert_exporter": "python",
   "pygments_lexer": "ipython3",
   "version": "3.10.7"
  }
 },
 "nbformat": 4,
 "nbformat_minor": 5
}
